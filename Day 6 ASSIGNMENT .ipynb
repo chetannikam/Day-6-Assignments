{
 "cells": [
  {
   "cell_type": "markdown",
   "metadata": {},
   "source": [
    "# DAY 6 ASSIGNMENTS"
   ]
  },
  {
   "cell_type": "markdown",
   "metadata": {},
   "source": [
    "# Problem 1- Dequeue"
   ]
  },
  {
   "cell_type": "code",
   "execution_count": 1,
   "metadata": {},
   "outputs": [
    {
     "name": "stdout",
     "output_type": "stream",
     "text": [
      "Enter the size of the queue:-5\n",
      "Dequed Element is:- 10\n",
      "Dequed Element is:- 20\n",
      "30 40 50 "
     ]
    }
   ],
   "source": [
    "def enq(x):\n",
    "    global size,rear,front,l\n",
    "    if rear==size-1:\n",
    "        print(\"Queue is Full\")\n",
    "        return\n",
    "    if rear==-1:\n",
    "        rear=front=0\n",
    "    else:\n",
    "        rear=rear+1\n",
    "    l.append(x)\n",
    "def deq():\n",
    "    global size,rear,front,l\n",
    "    if front==-1:\n",
    "        print(\"Queue is empty u cant delete from empty queue\")\n",
    "        return\n",
    "    print(\"Dequed Element is:-\",l[front])\n",
    "    front=front+1\n",
    "\n",
    "def print_que(x):\n",
    "    global size,rear,front\n",
    "    for i in range(front,rear+1):\n",
    "        print(x[i],end=\" \")\n",
    "l=[]\n",
    "size=int(input(\"Enter the size of the queue:-\"))\n",
    "rear=-1\n",
    "front=-1\n",
    "enq(10)\n",
    "enq(20)\n",
    "enq(30)\n",
    "enq(40)\n",
    "enq(50)\n",
    "deq()\n",
    "deq()\n",
    "print_que(l)"
   ]
  },
  {
   "cell_type": "markdown",
   "metadata": {},
   "source": [
    "# Problem 2--Barua Number Solution"
   ]
  },
  {
   "cell_type": "code",
   "execution_count": 9,
   "metadata": {},
   "outputs": [
    {
     "name": "stdout",
     "output_type": "stream",
     "text": [
      "10 100 1000\n",
      "1000000\n"
     ]
    }
   ],
   "source": [
    "def barua_no(x):\n",
    "    cnt=0\n",
    "    num1=0\n",
    "    num=0\n",
    "    for i in range(0,len(x)):\n",
    "        num=x[i]\n",
    "        if num%10==0:\n",
    "            while num!=1:\n",
    "                num=num//10\n",
    "                cnt=cnt+1\n",
    "        else:\n",
    "            num1=x[i]\n",
    "    if num1!=0:\n",
    "        return str(num1)+str(0)*cnt\n",
    "    else:\n",
    "        return str(1)+str(0)*cnt\n",
    "    \n",
    "l=[int(i) for i in input().split()]\n",
    "print(barua_no(l))\n",
    "            "
   ]
  },
  {
   "cell_type": "code",
   "execution_count": null,
   "metadata": {},
   "outputs": [],
   "source": []
  }
 ],
 "metadata": {
  "kernelspec": {
   "display_name": "Python 3",
   "language": "python",
   "name": "python3"
  },
  "language_info": {
   "codemirror_mode": {
    "name": "ipython",
    "version": 3
   },
   "file_extension": ".py",
   "mimetype": "text/x-python",
   "name": "python",
   "nbconvert_exporter": "python",
   "pygments_lexer": "ipython3",
   "version": "3.7.7"
  }
 },
 "nbformat": 4,
 "nbformat_minor": 4
}
